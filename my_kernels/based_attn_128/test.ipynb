{
 "cells": [
  {
   "cell_type": "code",
   "execution_count": 3,
   "metadata": {},
   "outputs": [],
   "source": [
    "import torch"
   ]
  },
  {
   "cell_type": "code",
   "execution_count": 32,
   "metadata": {},
   "outputs": [],
   "source": [
    "B = 1 # keep 1\n",
    "H = 1 # keep 1\n",
    "N = 512\n",
    "D = 64\n",
    "DV = 64"
   ]
  },
  {
   "cell_type": "code",
   "execution_count": 33,
   "metadata": {},
   "outputs": [],
   "source": [
    "torch.random.manual_seed(42)\n",
    "q = (torch.randn((B, H, N, D), dtype=torch.bfloat16, device='cpu')/float(D)**.5).to(torch.float32)\n",
    "k = (torch.randn((B, H, N, D), dtype=torch.bfloat16, device='cpu')/float(D)**.5).to(torch.float32)\n",
    "v = (torch.randn((B, H, N, DV), dtype=torch.bfloat16, device='cpu')/DV).to(torch.float32)\n",
    "A = torch.rand_like(v).to(torch.float32)\n",
    "q.requires_grad = True\n",
    "k.requires_grad = True\n",
    "v.requires_grad = True"
   ]
  },
  {
   "cell_type": "code",
   "execution_count": 34,
   "metadata": {},
   "outputs": [],
   "source": [
    "attn = q @ k.transpose(-2, -1)\n",
    "attn.masked_fill_(~torch.tril(torch.ones(q.shape[-2], q.shape[-2], dtype=torch.bool, device=q.device)), 0)\n",
    "o = attn @ v"
   ]
  },
  {
   "cell_type": "code",
   "execution_count": 35,
   "metadata": {},
   "outputs": [],
   "source": [
    "J = (o*A).sum()\n",
    "J.backward()"
   ]
  },
  {
   "cell_type": "code",
   "execution_count": 36,
   "metadata": {},
   "outputs": [],
   "source": [
    "q_grad = q.grad\n",
    "k_grad = k.grad\n",
    "v_grad = v.grad"
   ]
  },
  {
   "cell_type": "code",
   "execution_count": 37,
   "metadata": {},
   "outputs": [],
   "source": [
    "torch.random.manual_seed(42)\n",
    "q = (torch.randn((B, H, N, D), dtype=torch.bfloat16, device='cpu') / float(D)**.5).to(torch.float32)\n",
    "k = (torch.randn((B, H, N, D), dtype=torch.bfloat16, device='cpu') / float(D)**.5).to(torch.float32)\n",
    "v = (torch.randn((B, H, N, DV), dtype=torch.bfloat16, device='cpu') / DV).to(torch.float32)\n",
    "A = torch.rand_like(v).to(torch.float32)\n",
    "q.requires_grad = True\n",
    "k.requires_grad = True\n",
    "v.requires_grad = True\n",
    "\n",
    "attn = q @ k.transpose(-2, -1)\n",
    "attn.masked_fill_(~torch.tril(torch.ones(q.shape[-2], q.shape[-2], dtype=torch.bool, device=q.device)), 0)\n",
    "o = attn @ v\n",
    "\n",
    "# Compute the loss\n",
    "J = (o * A).sum()\n",
    "\n",
    "# Call backward with retain_graph=True to preserve the graph\n",
    "J.backward(retain_graph=True)\n",
    "\n",
    "# Compute gradient of J w.r.t. o explicitly\n",
    "grad_o = torch.autograd.grad(J, o, retain_graph=True)[0]\n",
    "\n",
    "# here, access to q.grad, k.grad, v.grad, o.grad"
   ]
  },
  {
   "cell_type": "code",
   "execution_count": 38,
   "metadata": {},
   "outputs": [
    {
     "data": {
      "text/plain": [
       "(True, True, True)"
      ]
     },
     "execution_count": 38,
     "metadata": {},
     "output_type": "execute_result"
    }
   ],
   "source": [
    "torch.allclose(q_grad, q.grad), torch.allclose(k_grad, k.grad), torch.allclose(v_grad, v.grad)"
   ]
  },
  {
   "cell_type": "code",
   "execution_count": 39,
   "metadata": {},
   "outputs": [
    {
     "data": {
      "text/plain": [
       "True"
      ]
     },
     "execution_count": 39,
     "metadata": {},
     "output_type": "execute_result"
    }
   ],
   "source": [
    "torch.allclose(grad_o, A)"
   ]
  },
  {
   "cell_type": "code",
   "execution_count": null,
   "metadata": {},
   "outputs": [],
   "source": []
  }
 ],
 "metadata": {
  "kernelspec": {
   "display_name": "torch23",
   "language": "python",
   "name": "python3"
  },
  "language_info": {
   "codemirror_mode": {
    "name": "ipython",
    "version": 3
   },
   "file_extension": ".py",
   "mimetype": "text/x-python",
   "name": "python",
   "nbconvert_exporter": "python",
   "pygments_lexer": "ipython3",
   "version": "3.12.2"
  }
 },
 "nbformat": 4,
 "nbformat_minor": 2
}
