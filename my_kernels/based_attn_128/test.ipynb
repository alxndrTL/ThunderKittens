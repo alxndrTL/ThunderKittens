{
 "cells": [
  {
   "cell_type": "code",
   "execution_count": 1,
   "metadata": {},
   "outputs": [],
   "source": [
    "import torch"
   ]
  },
  {
   "cell_type": "code",
   "execution_count": 2,
   "metadata": {},
   "outputs": [],
   "source": [
    "B = 1 # keep 1\n",
    "H = 1 # keep 1\n",
    "N = 512\n",
    "D = 64\n",
    "DV = 64"
   ]
  },
  {
   "cell_type": "code",
   "execution_count": 31,
   "metadata": {},
   "outputs": [],
   "source": [
    "torch.random.manual_seed(42)\n",
    "q = (torch.randn((B, H, N, D), dtype=torch.bfloat16, device='cpu')/float(D)**.5).to(torch.float32)\n",
    "k = (torch.randn((B, H, N, D), dtype=torch.bfloat16, device='cpu')/float(D)**.5).to(torch.float32)\n",
    "v = (torch.randn((B, H, N, DV), dtype=torch.bfloat16, device='cpu')/DV).to(torch.float32)\n",
    "q.requires_grad = True\n",
    "k.requires_grad = True\n",
    "v.requires_grad = True"
   ]
  },
  {
   "cell_type": "code",
   "execution_count": 32,
   "metadata": {},
   "outputs": [],
   "source": [
    "attn = q @ k.transpose(-2, -1)\n",
    "attn.masked_fill_(~torch.tril(torch.ones(q.shape[-2], q.shape[-2], dtype=torch.bool, device=q.device)), 0)\n",
    "o = attn @ v"
   ]
  },
  {
   "cell_type": "code",
   "execution_count": 33,
   "metadata": {},
   "outputs": [],
   "source": [
    "J = o.sum()\n",
    "J.backward()"
   ]
  },
  {
   "cell_type": "code",
   "execution_count": 36,
   "metadata": {},
   "outputs": [
    {
     "data": {
      "text/plain": [
       "tensor([[[[-2.3930, -2.3930, -2.3930,  ..., -2.3930, -2.3930, -2.3930],\n",
       "          [ 3.4949,  3.4949,  3.4949,  ...,  3.4949,  3.4949,  3.4949],\n",
       "          [ 0.7267,  0.7267,  0.7267,  ...,  0.7267,  0.7267,  0.7267],\n",
       "          ...,\n",
       "          [ 0.1852,  0.1852,  0.1852,  ...,  0.1852,  0.1852,  0.1852],\n",
       "          [ 0.2319,  0.2319,  0.2319,  ...,  0.2319,  0.2319,  0.2319],\n",
       "          [-0.2447, -0.2447, -0.2447,  ..., -0.2447, -0.2447, -0.2447]]]])"
      ]
     },
     "execution_count": 36,
     "metadata": {},
     "output_type": "execute_result"
    }
   ],
   "source": [
    "v.grad"
   ]
  },
  {
   "cell_type": "code",
   "execution_count": null,
   "metadata": {},
   "outputs": [],
   "source": []
  }
 ],
 "metadata": {
  "kernelspec": {
   "display_name": "torch23",
   "language": "python",
   "name": "python3"
  },
  "language_info": {
   "codemirror_mode": {
    "name": "ipython",
    "version": 3
   },
   "file_extension": ".py",
   "mimetype": "text/x-python",
   "name": "python",
   "nbconvert_exporter": "python",
   "pygments_lexer": "ipython3",
   "version": "3.12.2"
  }
 },
 "nbformat": 4,
 "nbformat_minor": 2
}
